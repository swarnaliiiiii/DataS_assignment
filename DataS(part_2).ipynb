{
  "nbformat": 4,
  "nbformat_minor": 0,
  "metadata": {
    "colab": {
      "provenance": [],
      "mount_file_id": "1MG2ugwmlvikhG_XWp74Nx1usqIjCX2Rr",
      "authorship_tag": "ABX9TyMG1tKCplYXs1kSsDD7eXs5",
      "include_colab_link": true
    },
    "kernelspec": {
      "name": "python3",
      "display_name": "Python 3"
    },
    "language_info": {
      "name": "python"
    }
  },
  "cells": [
    {
      "cell_type": "markdown",
      "metadata": {
        "id": "view-in-github",
        "colab_type": "text"
      },
      "source": [
        "<a href=\"https://colab.research.google.com/github/swarnaliiiiii/DataS_assignment/blob/main/DataS(part_2).ipynb\" target=\"_parent\"><img src=\"https://colab.research.google.com/assets/colab-badge.svg\" alt=\"Open In Colab\"/></a>"
      ]
    },
    {
      "cell_type": "code",
      "source": [
        "#5: MODEL EVALUATION\n",
        "import numpy as np\n",
        "import pandas as pd\n",
        "import matplotlib.pyplot as plt\n",
        "import seaborn as sns\n",
        "from sklearn import metrics\n",
        "from sklearn.ensemble import RandomForestClassifier\n",
        "from sklearn.linear_model import LogisticRegression, SGDClassifier\n",
        "from sklearn.model_selection import train_test_split, cross_val_score, cross_val_predict, StratifiedKFold\n",
        "sns.set()\n",
        "\n",
        "df = pd.read_csv(\"/content/drive/MyDrive/dataset/heart.csv\")\n",
        "\n",
        "#print(df.info())\n",
        "#print(df.head())\n",
        "#print(df.describe())\n",
        "#df.shape\n",
        "#print(df.isna().sum())\n",
        "#var = 'target'\n",
        "#ns.countplot(df[var])\n",
        "#var = 'age'\n",
        "#f, ax = plt.subplots(figsize=(15,8))\n",
        "#sns.distplot(df[var])\n",
        "#plt.xlim([0,80])\n",
        "#var = 'chol'\n",
        "#f, ax = plt.subplots(figsize=(15,8))\n",
        "#sns.distplot(df[var])\n",
        "#plt.xlim([0,600])\n",
        "#var = 'trestbps'\n",
        "#f, ax = plt.subplots(figsize=(15,8))\n",
        "#sns.distplot(df[var])\n",
        "#plt.xlim([0,250])\n",
        "df.columns\n",
        "X = df.iloc[:,:-1]\n",
        "y = df.iloc[:,-1]\n",
        "print(\"\\n\\n\\t\\tIndependent features of Dataset: \")\n",
        "print(X.head())\n",
        "print(\"\\n\\n\\t\\tDependent features of Dataset: \")\n",
        "print(y.head())\n",
        "X_train, X_test, y_train, y_test = train_test_split(X, y, test_size=0.2, random_state = 25)\n",
        "from sklearn.preprocessing import StandardScaler\n",
        "scaler = StandardScaler()\n",
        "\n",
        "X_train = scaler.fit_transform(X_train)\n",
        "X_test = scaler.transform(X_test)\n",
        "log_reg = LogisticRegression()\n",
        "log_reg.fit(X_train, y_train)\n",
        "y_pred = log_reg.predict(X_test)\n",
        "\n",
        "print(\"Classification Model Accuracy is: \",metrics.accuracy_score(y_test, y_pred))\n",
        "import scikitplot as skplt\n",
        "#skplt.metrics.plot_confusion_matrix(y_test,y_pred)\n",
        "\n",
        "from sklearn.metrics import average_precision_score\n",
        "from sklearn.metrics import precision_recall_curve\n",
        "\n",
        "average_precision = average_precision_score(y_test, y_pred)\n",
        "print('Average precision-recall score: {0:0.2f}'.format(average_precision))\n",
        "\n",
        "from sklearn.metrics import f1_score\n",
        "print(\"Macro F1 Score: \",f1_score(y_test, y_pred, average='macro'))\n",
        "print(\"Micro F1 Score: \",f1_score(y_test, y_pred, average='micro'))\n",
        "print(\"Weighted F1 Score: \",f1_score(y_test, y_pred, average='weighted'))\n",
        "fpr, tpr, thresholds = metrics.roc_curve(y_test, y_pred)\n",
        "\n",
        "plt.plot(fpr, tpr)\n",
        "plt.title('ROC curve for Heart Attack classifier')\n",
        "plt.xlabel('False Positive Rate (1 - Specificity)')\n",
        "plt.ylabel('True Positive Rate (Sensitivity)')\n",
        "plt.grid(True)\n",
        "\n",
        "from sklearn.metrics import classification_report\n",
        "target_names = ['class 0', 'class 1']\n",
        "print(classification_report(y_test, y_pred, target_names=target_names))"
      ],
      "metadata": {
        "id": "_ai78HR4pdrY",
        "colab": {
          "base_uri": "https://localhost:8080/",
          "height": 1000
        },
        "outputId": "4007a9d7-57e3-479a-bf14-b2806cb72084"
      },
      "execution_count": null,
      "outputs": [
        {
          "output_type": "stream",
          "name": "stdout",
          "text": [
            "\n",
            "\n",
            "\t\tIndependent features of Dataset: \n",
            "   age  sex  cp  trestbps  chol  fbs  restecg  thalach  exang  oldpeak  slope  \\\n",
            "0   63    1   3       145   233    1        0      150      0      2.3      0   \n",
            "1   37    1   2       130   250    0        1      187      0      3.5      0   \n",
            "2   41    0   1       130   204    0        0      172      0      1.4      2   \n",
            "3   56    1   1       120   236    0        1      178      0      0.8      2   \n",
            "4   57    0   0       120   354    0        1      163      1      0.6      2   \n",
            "\n",
            "   ca  thal  \n",
            "0   0     1  \n",
            "1   0     2  \n",
            "2   0     2  \n",
            "3   0     2  \n",
            "4   0     2  \n",
            "\n",
            "\n",
            "\t\tDependent features of Dataset: \n",
            "0    1\n",
            "1    1\n",
            "2    1\n",
            "3    1\n",
            "4    1\n",
            "Name: target, dtype: int64\n",
            "Classification Model Accuracy is:  0.7704918032786885\n",
            "Average precision-recall score: 0.71\n",
            "Macro F1 Score:  0.7674291938997821\n",
            "Micro F1 Score:  0.7704918032786885\n",
            "Weighted F1 Score:  0.7687417407764563\n",
            "              precision    recall  f1-score   support\n",
            "\n",
            "     class 0       0.80      0.69      0.74        29\n",
            "     class 1       0.75      0.84      0.79        32\n",
            "\n",
            "    accuracy                           0.77        61\n",
            "   macro avg       0.78      0.77      0.77        61\n",
            "weighted avg       0.77      0.77      0.77        61\n",
            "\n"
          ]
        },
        {
          "output_type": "display_data",
          "data": {
            "text/plain": [
              "<Figure size 640x480 with 1 Axes>"
            ],
            "image/png": "[encoded data removed]"
          },
          "metadata": {}
        }
      ]
    },
    {
      "cell_type": "code",
      "source": [
        "pip install -q scikit-plot"
      ],
      "metadata": {
        "id": "4bLbcu-xuQVJ"
      },
      "execution_count": null,
      "outputs": []
    },
    {
      "cell_type": "code",
      "source": [
        "#Demonstrate  Estimation Model Evaluation and Stepwise Regression Using Python\n",
        "\n",
        "import pandas as pd\n",
        "import statsmodels.api as sm\n",
        "from sklearn.preprocessing import OneHotEncoder\n",
        "from itertools import combinations\n",
        "\n",
        "# Load your dataset (replace 'data.csv' with your actual file path)\n",
        "data = pd.read_csv('/content/drive/MyDrive/dataset/fuel_dataset.csv')\n",
        "\n",
        "# Define the response variable\n",
        "y = data['Fuel_inL']\n",
        "\n",
        "# Define the predictor variables (including 'distance_km', 'fuel_type', 'vehicle_id')\n",
        "X = data[['Vehicle_ID','Fuel_Type','Distance_inKm ']]\n",
        "\n",
        "# Drop 'vehicle_id' since it's not a predictor\n",
        "X = X.drop('Vehicle_ID', axis=1)\n",
        "\n",
        "# Encode 'fuel_type' as binary (petrol = 1, diesel = 0)\n",
        "X['Fuel_Type'] = (X['Fuel_Type'] == 'petrol').astype(int)\n",
        "\n",
        "# Function for forward stepwise selection\n",
        "def forward_stepwise_selection(X, y):\n",
        "    selected_vars = []\n",
        "    remaining_vars = set(X.columns)\n",
        "\n",
        "    while remaining_vars:\n",
        "        models = []\n",
        "        for var in remaining_vars:\n",
        "            predictors = selected_vars + [var]\n",
        "            X_subset = X[predictors]\n",
        "            X_subset = sm.add_constant(X_subset)\n",
        "            model = sm.OLS(y, X_subset).fit()\n",
        "            models.append((model.aic, var))\n",
        "\n",
        "        models.sort()\n",
        "        best_aic, best_var = models[0]\n",
        "        selected_vars.append(best_var)\n",
        "        remaining_vars.remove(best_var)\n",
        "\n",
        "    return selected_vars\n",
        "\n",
        "# Perform forward stepwise selection\n",
        "selected_predictors = forward_stepwise_selection(X, y)\n",
        "\n",
        "# Fit the final model with the selected predictors\n",
        "final_model = sm.OLS(y, sm.add_constant(X[selected_predictors])).fit()\n",
        "\n",
        "# Display the summary of the final model\n",
        "print(final_model.summary())\n",
        "\n",
        "\n",
        "from sklearn.metrics import mean_absolute_error, mean_squared_error\n",
        "import numpy as np\n",
        "\n",
        "# Assuming 'final_model' is the model you obtained from the previous steps\n",
        "\n",
        "# Make predictions on the training set\n",
        "y_pred = final_model.predict(sm.add_constant(X[selected_predictors]))\n",
        "\n",
        "# Evaluate the model\n",
        "r_squared = final_model.rsquared\n",
        "mae = mean_absolute_error(y, y_pred)\n",
        "mse = mean_squared_error(y, y_pred)\n",
        "rmse = np.sqrt(mse)\n",
        "\n",
        "# Display evaluation metrics\n",
        "print(f'R-squared: {r_squared:.4f}')\n",
        "print(f'Mean Absolute Error (MAE): {mae:.4f}')\n",
        "print(f'Mean Squared Error (MSE): {mse:.4f}')\n",
        "print(f'Root Mean Squared Error (RMSE): {rmse:.4f}')\n",
        "\n"
      ],
      "metadata": {
        "colab": {
          "base_uri": "https://localhost:8080/"
        },
        "id": "5GPDJqgcz7EW",
        "outputId": "6c7956a8-296e-41a3-8aeb-126bb6f46e42"
      },
      "execution_count": null,
      "outputs": [
        {
          "output_type": "stream",
          "name": "stdout",
          "text": [
            "                            OLS Regression Results                            \n",
            "==============================================================================\n",
            "Dep. Variable:               Fuel_inL   R-squared:                       0.605\n",
            "Model:                            OLS   Adj. R-squared:                  0.556\n",
            "Method:                 Least Squares   F-statistic:                     12.25\n",
            "Date:                Thu, 28 Dec 2023   Prob (F-statistic):            0.00808\n",
            "Time:                        15:01:35   Log-Likelihood:                -23.218\n",
            "No. Observations:                  10   AIC:                             50.44\n",
            "Df Residuals:                       8   BIC:                             51.04\n",
            "Df Model:                           1                                         \n",
            "Covariance Type:            nonrobust                                         \n",
            "==================================================================================\n",
            "                     coef    std err          t      P>|t|      [0.025      0.975]\n",
            "----------------------------------------------------------------------------------\n",
            "const             22.1576      3.305      6.704      0.000      14.536      29.779\n",
            "Distance_inKm     -0.0708      0.020     -3.500      0.008      -0.118      -0.024\n",
            "Fuel_Type               0          0        nan        nan           0           0\n",
            "==============================================================================\n",
            "Omnibus:                        1.968   Durbin-Watson:                   2.008\n",
            "Prob(Omnibus):                  0.374   Jarque-Bera (JB):                0.925\n",
            "Skew:                          -0.733   Prob(JB):                        0.630\n",
            "Kurtosis:                       2.731   Cond. No.                          inf\n",
            "==============================================================================\n",
            "\n",
            "Notes:\n",
            "[1] Standard Errors assume that the covariance matrix of the errors is correctly specified.\n",
            "[2] The smallest eigenvalue is      0. This might indicate that there are\n",
            "strong multicollinearity problems or that the design matrix is singular.\n",
            "R-squared: 0.6049\n",
            "Mean Absolute Error (MAE): 1.8501\n",
            "Mean Squared Error (MSE): 6.0843\n",
            "Root Mean Squared Error (RMSE): 2.4666\n"
          ]
        },
        {
          "output_type": "stream",
          "name": "stderr",
          "text": [
            "/usr/local/lib/python3.10/dist-packages/scipy/stats/_stats_py.py:1806: UserWarning: kurtosistest only valid for n>=20 ... continuing anyway, n=10\n",
            "  warnings.warn(\"kurtosistest only valid for n>=20 ... continuing \"\n",
            "/usr/local/lib/python3.10/dist-packages/statsmodels/regression/linear_model.py:1966: RuntimeWarning: divide by zero encountered in double_scalars\n",
            "  return np.sqrt(eigvals[0]/eigvals[-1])\n"
          ]
        }
      ]
    },
    {
      "cell_type": "code",
      "source": [
        "#to Perform Logistic Regression Using Python\n",
        "\n",
        "import pandas as pd\n",
        "from sklearn.model_selection import train_test_split\n",
        "from sklearn.linear_model import LogisticRegression\n",
        "from sklearn.metrics import accuracy_score, classification_report, confusion_matrix\n",
        "from sklearn.preprocessing import LabelEncoder\n",
        "\n",
        "df = pd.read_csv('/content/drive/MyDrive/dataset/fitbit.csv')\n",
        "\n",
        "# Drop 'activity_profile' and 'Id'\n",
        "df = df.drop(['activity_profile', 'Id'], axis=1)\n",
        "\n",
        "# Encode 'sleep_profile' as categories\n",
        "label_encoder = LabelEncoder()\n",
        "df['sleep_profile'] = label_encoder.fit_transform(df['sleep_profile'])\n",
        "\n",
        "# Define features and target variable\n",
        "X = df.drop('sleep_profile', axis=1)\n",
        "y = df['sleep_profile']\n",
        "\n",
        "# Split the data into training and testing sets\n",
        "X_train, X_test, y_train, y_test = train_test_split(X, y, test_size=0.2, random_state=42)\n",
        "\n",
        "# Create and fit a logistic regression model\n",
        "logreg_model = LogisticRegression(random_state=42, max_iter=1000)\n",
        "logreg_model.fit(X_train, y_train)\n",
        "\n",
        "# Make predictions on the testing set\n",
        "y_pred = logreg_model.predict(X_test)\n",
        "\n",
        "# Evaluate the logistic regression model\n",
        "accuracy = accuracy_score(y_test, y_pred)\n",
        "conf_matrix = confusion_matrix(y_test, y_pred)\n",
        "class_report = classification_report(y_test, y_pred)\n",
        "\n",
        "# Display evaluation metrics\n",
        "print(f'Accuracy: {accuracy:.4f}')\n",
        "print('Confusion Matrix:')\n",
        "print(conf_matrix)\n",
        "print('Classification Report:')\n",
        "print(class_report)"
      ],
      "metadata": {
        "colab": {
          "base_uri": "https://localhost:8080/"
        },
        "id": "2TyNUKeO9Gqd",
        "outputId": "0c914999-a671-45e0-aa2a-de2929ba5ca8"
      },
      "execution_count": 3,
      "outputs": [
        {
          "output_type": "stream",
          "name": "stdout",
          "text": [
            "Accuracy: 0.8000\n",
            "Confusion Matrix:\n",
            "[[0 0 0]\n",
            " [1 0 0]\n",
            " [0 0 4]]\n",
            "Classification Report:\n",
            "              precision    recall  f1-score   support\n",
            "\n",
            "           0       0.00      0.00      0.00         0\n",
            "           1       0.00      0.00      0.00         1\n",
            "           2       1.00      1.00      1.00         4\n",
            "\n",
            "    accuracy                           0.80         5\n",
            "   macro avg       0.33      0.33      0.33         5\n",
            "weighted avg       0.80      0.80      0.80         5\n",
            "\n"
          ]
        },
        {
          "output_type": "stream",
          "name": "stderr",
          "text": [
            "/usr/local/lib/python3.10/dist-packages/sklearn/metrics/_classification.py:1344: UndefinedMetricWarning: Precision and F-score are ill-defined and being set to 0.0 in labels with no predicted samples. Use `zero_division` parameter to control this behavior.\n",
            "  _warn_prf(average, modifier, msg_start, len(result))\n",
            "/usr/local/lib/python3.10/dist-packages/sklearn/metrics/_classification.py:1344: UndefinedMetricWarning: Recall and F-score are ill-defined and being set to 0.0 in labels with no true samples. Use `zero_division` parameter to control this behavior.\n",
            "  _warn_prf(average, modifier, msg_start, len(result))\n",
            "/usr/local/lib/python3.10/dist-packages/sklearn/metrics/_classification.py:1344: UndefinedMetricWarning: Precision and F-score are ill-defined and being set to 0.0 in labels with no predicted samples. Use `zero_division` parameter to control this behavior.\n",
            "  _warn_prf(average, modifier, msg_start, len(result))\n",
            "/usr/local/lib/python3.10/dist-packages/sklearn/metrics/_classification.py:1344: UndefinedMetricWarning: Recall and F-score are ill-defined and being set to 0.0 in labels with no true samples. Use `zero_division` parameter to control this behavior.\n",
            "  _warn_prf(average, modifier, msg_start, len(result))\n",
            "/usr/local/lib/python3.10/dist-packages/sklearn/metrics/_classification.py:1344: UndefinedMetricWarning: Precision and F-score are ill-defined and being set to 0.0 in labels with no predicted samples. Use `zero_division` parameter to control this behavior.\n",
            "  _warn_prf(average, modifier, msg_start, len(result))\n",
            "/usr/local/lib/python3.10/dist-packages/sklearn/metrics/_classification.py:1344: UndefinedMetricWarning: Recall and F-score are ill-defined and being set to 0.0 in labels with no true samples. Use `zero_division` parameter to control this behavior.\n",
            "  _warn_prf(average, modifier, msg_start, len(result))\n"
          ]
        }
      ]
    },
    {
      "cell_type": "code",
      "source": [
        "#to Perform Poisson Regression Using Python\n",
        "\n",
        "import pandas as pd\n",
        "import numpy as np\n",
        "import statsmodels.api as sm\n",
        "\n",
        "df = pd.read_csv('/content/drive/MyDrive/dataset/fitbit.csv')\n",
        "\n",
        "# Drop 'activity_profile' and 'Id'\n",
        "df = df.drop(['activity_profile', 'Id'], axis=1)\n",
        "\n",
        "# Ensure 'TotalMinutesAsleep' is of integer type\n",
        "df['TotalMinutesAsleep'] = df['TotalMinutesAsleep'].astype(int)\n",
        "\n",
        "# Encode 'sleep_profile' as categories\n",
        "df = pd.get_dummies(df, columns=['sleep_profile'], prefix='sleep')\n",
        "\n",
        "# Define features and target variable\n",
        "X = df.drop('TotalMinutesAsleep', axis=1)\n",
        "y = df['TotalMinutesAsleep']\n",
        "\n",
        "# Add a constant term to the features for the intercept\n",
        "X = sm.add_constant(X)\n",
        "\n",
        "# Convert data to NumPy arrays\n",
        "X_np = X.to_numpy(dtype=np.float64)\n",
        "y_np = y.to_numpy(dtype=np.float64)\n",
        "\n",
        "# Fit Poisson regression model\n",
        "poisson_model = sm.GLM(y_np, X_np, family=sm.families.Poisson()).fit()\n",
        "\n",
        "# Display the summary of the Poisson regression model\n",
        "print(poisson_model.summary())"
      ],
      "metadata": {
        "colab": {
          "base_uri": "https://localhost:8080/"
        },
        "id": "giygyyE5vymz",
        "outputId": "7cd54208-ec3f-4891-e34a-481eddb2fc8f"
      },
      "execution_count": 11,
      "outputs": [
        {
          "output_type": "stream",
          "name": "stdout",
          "text": [
            "                 Generalized Linear Model Regression Results                  \n",
            "==============================================================================\n",
            "Dep. Variable:                      y   No. Observations:                   24\n",
            "Model:                            GLM   Df Residuals:                       20\n",
            "Model Family:                 Poisson   Df Model:                            3\n",
            "Link Function:                    Log   Scale:                          1.0000\n",
            "Method:                          IRLS   Log-Likelihood:                -506.31\n",
            "Date:                Fri, 29 Dec 2023   Deviance:                       828.92\n",
            "Time:                        09:29:25   Pearson chi2:                     655.\n",
            "No. Iterations:                     4   Pseudo R-squ. (CS):              1.000\n",
            "Covariance Type:            nonrobust                                         \n",
            "==============================================================================\n",
            "                 coef    std err          z      P>|z|      [0.025      0.975]\n",
            "------------------------------------------------------------------------------\n",
            "const          4.6364      0.021    223.111      0.000       4.596       4.677\n",
            "x1         -1.302e-05   3.58e-06     -3.634      0.000      -2e-05      -6e-06\n",
            "x2             1.8932      0.030     62.846      0.000       1.834       1.952\n",
            "x3             1.1491      0.019     59.862      0.000       1.111       1.187\n",
            "x4             1.5940      0.019     85.076      0.000       1.557       1.631\n",
            "==============================================================================\n"
          ]
        }
      ]
    },
    {
      "cell_type": "code",
      "source": [
        "#Demonstrate How you will Identify Multicollinearity Python\n",
        "\n",
        "import pandas as pd\n",
        "import statsmodels.api as sm\n",
        "from statsmodels.stats.outliers_influence import variance_inflation_factor\n",
        "import matplotlib.pyplot as plt\n",
        "\n",
        "# Load the fuel dataset (replace 'fuel_dataset.csv' with the actual path to your dataset)\n",
        "data = pd.read_csv('/content/drive/MyDrive/dataset/fuel_dataset.csv')\n",
        "\n",
        "# Replace these columns with your actual predictor variable names\n",
        "predictor_columns = [\"Fuel_Type\", \"Fuel_inL\", \"Distance_inKm \"]\n",
        "\n",
        "# Encode 'Fuel_Type' as binary (petrol = 1, diesel = 0)\n",
        "data['Fuel_Type'] = (data['Fuel_Type'] == 'petrol').astype(int)\n",
        "\n",
        "# Extract the predictor variables into their own data frame\n",
        "X = pd.DataFrame(data[predictor_columns])\n",
        "\n",
        "# Create a scatterplot matrix\n",
        "pd.plotting.scatter_matrix(X)\n",
        "plt.show()\n",
        "\n",
        "# Add the constant term\n",
        "X = sm.add_constant(X)\n",
        "\n",
        "# Calculate VIF values\n",
        "vif_values = [variance_inflation_factor(X.values, i) for i in range(X.shape[1])]\n",
        "\n",
        "# Display the VIF values\n",
        "vif_results = pd.DataFrame({'Variable': X.columns, 'VIF': vif_values})\n",
        "print(\"Variance Inflation Factor (VIF):\")\n",
        "print(vif_results)\n"
      ],
      "metadata": {
        "colab": {
          "base_uri": "https://localhost:8080/",
          "height": 802
        },
        "id": "nJ-0XdSe6jX3",
        "outputId": "a331bcf4-7dcc-4421-e984-b093549bcb75"
      },
      "execution_count": 20,
      "outputs": [
        {
          "output_type": "stream",
          "name": "stderr",
          "text": [
            "/usr/local/lib/python3.10/dist-packages/pandas/plotting/_matplotlib/misc.py:92: UserWarning: Attempting to set identical low and high xlims makes transformation singular; automatically expanding.\n",
            "  ax.set_xlim(boundaries_list[i])\n",
            "/usr/local/lib/python3.10/dist-packages/pandas/plotting/_matplotlib/misc.py:102: UserWarning: Attempting to set identical low and high ylims makes transformation singular; automatically expanding.\n",
            "  ax.set_ylim(boundaries_list[i])\n",
            "/usr/local/lib/python3.10/dist-packages/pandas/plotting/_matplotlib/misc.py:101: UserWarning: Attempting to set identical low and high xlims makes transformation singular; automatically expanding.\n",
            "  ax.set_xlim(boundaries_list[j])\n",
            "/usr/local/lib/python3.10/dist-packages/pandas/plotting/_matplotlib/misc.py:116: RuntimeWarning: invalid value encountered in divide\n",
            "  adj = (locs - lim1[0]) / (lim1[1] - lim1[0])\n",
            "WARNING:matplotlib.text:posx and posy should be finite values\n",
            "WARNING:matplotlib.text:posx and posy should be finite values\n"
          ]
        },
        {
          "output_type": "display_data",
          "data": {
            "text/plain": [
              "<Figure size 640x480 with 9 Axes>"
            ],
            "image/png": "[encoded data removed]"
          },
          "metadata": {}
        },
        {
          "output_type": "stream",
          "name": "stderr",
          "text": [
            "/usr/local/lib/python3.10/dist-packages/statsmodels/regression/linear_model.py:1782: RuntimeWarning: invalid value encountered in double_scalars\n",
            "  return 1 - self.ssr/self.centered_tss\n"
          ]
        },
        {
          "output_type": "stream",
          "name": "stdout",
          "text": [
            "Variance Inflation Factor (VIF):\n",
            "         Variable        VIF\n",
            "0           const  95.056136\n",
            "1       Fuel_Type        NaN\n",
            "2        Fuel_inL   2.531101\n",
            "3  Distance_inKm    2.531101\n"
          ]
        }
      ]
    },
    {
      "cell_type": "code",
      "source": [
        "#Demonstrate HOW you’ll apply PRINCIPAL COMPONENTS ANALYSIS Using Python\n",
        "\n",
        "import pandas as pd\n",
        "from sklearn.decomposition import PCA\n",
        "from sklearn.preprocessing import StandardScaler\n",
        "import matplotlib.pyplot as plt\n",
        "\n",
        "# Load the fuel dataset (replace 'fuel_dataset.csv' with the actual path to your dataset)\n",
        "data = pd.read_csv('/content/drive/MyDrive/dataset/fuel_dataset.csv')\n",
        "\n",
        "# Replace these columns with your actual predictor variable names\n",
        "predictor_columns = [\"Fuel_Type\", \"Fuel_inL\", \"Distance_inKm \"]\n",
        "\n",
        "# Encode 'Fuel_Type' as binary (petrol = 1, diesel = 0)\n",
        "data['Fuel_Type'] = (data['Fuel_Type'] == 'petrol').astype(int)\n",
        "\n",
        "# Extract the predictor variables into their own data frame\n",
        "X = pd.DataFrame(data[predictor_columns])\n",
        "\n",
        "# Standardize the data\n",
        "scaler = StandardScaler()\n",
        "X_standardized = scaler.fit_transform(X)\n",
        "\n",
        "# Perform PCA\n",
        "pca = PCA()\n",
        "X_pca = pca.fit_transform(X_standardized)\n",
        "\n",
        "# Explained variance ratio\n",
        "explained_variance_ratio = pca.explained_variance_ratio_\n",
        "\n",
        "# Cumulative explained variance\n",
        "cumulative_explained_variance = explained_variance_ratio.cumsum()\n",
        "\n",
        "# Plot explained variance\n",
        "plt.figure(figsize=(10, 6))\n",
        "plt.plot(range(1, len(explained_variance_ratio) + 1), cumulative_explained_variance, marker='o', linestyle='--')\n",
        "plt.title('Explained Variance by Principal Components')\n",
        "plt.xlabel('Number of Principal Components')\n",
        "plt.ylabel('Cumulative Explained Variance')\n",
        "plt.show()\n",
        "\n",
        "# Select the number of components based on the plot\n",
        "n_components = 2  # You can choose the number of components based on the plot\n",
        "\n",
        "# Fit PCA with the selected number of components\n",
        "pca = PCA(n_components=n_components)\n",
        "X_pca = pca.fit_transform(X_standardized)\n",
        "\n",
        "# Create a DataFrame with the principal components\n",
        "columns = [f'PC{i+1}' for i in range(n_components)]\n",
        "df_pca = pd.DataFrame(data=X_pca, columns=columns)\n",
        "\n",
        "# Display the DataFrame with principal components\n",
        "print(\"DataFrame with Principal Components:\")\n",
        "print(df_pca)\n"
      ],
      "metadata": {
        "colab": {
          "base_uri": "https://localhost:8080/",
          "height": 772
        },
        "id": "cmQyTSnV9ymF",
        "outputId": "53e68586-2dd4-49e7-9f1f-2a7647c235ea"
      },
      "execution_count": 21,
      "outputs": [
        {
          "output_type": "display_data",
          "data": {
            "text/plain": [
              "<Figure size 1000x600 with 1 Axes>"
            ],
            "image/png": "[encoded data removed]"
          },
          "metadata": {}
        },
        {
          "output_type": "stream",
          "name": "stdout",
          "text": [
            "DataFrame with Principal Components:\n",
            "        PC1       PC2\n",
            "0  0.303279 -0.057096\n",
            "1 -1.238081 -0.156956\n",
            "2  1.664451  0.222951\n",
            "3 -1.270212  0.531663\n",
            "4  0.991898 -0.089227\n",
            "5 -1.205950 -0.845575\n",
            "6  2.287075 -0.235550\n",
            "7 -1.286277  0.875972\n",
            "8  0.975832  0.255082\n",
            "9 -1.222015 -0.501265\n"
          ]
        }
      ]
    },
    {
      "cell_type": "code",
      "source": [
        "#How to Mine Association Rules Using Python\n",
        "\n",
        "import pandas as pd\n",
        "from mlxtend.preprocessing import TransactionEncoder\n",
        "from mlxtend.frequent_patterns import apriori, association_rules\n",
        "\n",
        "# Create a sample dataset\n",
        "dataset = [['Milk', 'Bread', 'Eggs'],\n",
        "           ['Bread', 'Butter', 'Jam'],\n",
        "           ['Milk', 'Eggs', 'Butter', 'Bread'],\n",
        "           ['Milk', 'Jam'],\n",
        "           ['Bread', 'Eggs', 'Butter']]\n",
        "\n",
        "# Convert the dataset to a one-hot encoded format\n",
        "te = TransactionEncoder()\n",
        "te_ary = te.fit(dataset).transform(dataset)\n",
        "df = pd.DataFrame(te_ary, columns=te.columns_)\n",
        "\n",
        "# Find frequent itemsets using Apriori algorithm\n",
        "frequent_itemsets = apriori(df, min_support=0.4, use_colnames=True)\n",
        "\n",
        "# Generate association rules\n",
        "rules = association_rules(frequent_itemsets, metric=\"confidence\", min_threshold=0.7)\n",
        "\n",
        "# Display the frequent itemsets and association rules\n",
        "print(\"Frequent Itemsets:\")\n",
        "print(frequent_itemsets)\n",
        "\n",
        "print(\"\\nAssociation Rules:\")\n",
        "print(rules)\n"
      ],
      "metadata": {
        "colab": {
          "base_uri": "https://localhost:8080/"
        },
        "id": "MBMbnrfw-Vod",
        "outputId": "b7c089f8-bf23-4e11-f609-cd0106ddc0c7"
      },
      "execution_count": 22,
      "outputs": [
        {
          "output_type": "stream",
          "name": "stdout",
          "text": [
            "Frequent Itemsets:\n",
            "    support               itemsets\n",
            "0       0.8                (Bread)\n",
            "1       0.6               (Butter)\n",
            "2       0.6                 (Eggs)\n",
            "3       0.4                  (Jam)\n",
            "4       0.6                 (Milk)\n",
            "5       0.6        (Bread, Butter)\n",
            "6       0.6          (Bread, Eggs)\n",
            "7       0.4          (Bread, Milk)\n",
            "8       0.4         (Eggs, Butter)\n",
            "9       0.4           (Milk, Eggs)\n",
            "10      0.4  (Eggs, Bread, Butter)\n",
            "11      0.4    (Bread, Milk, Eggs)\n",
            "\n",
            "Association Rules:\n",
            "      antecedents consequents  antecedent support  consequent support  \\\n",
            "0         (Bread)    (Butter)                 0.8                 0.6   \n",
            "1        (Butter)     (Bread)                 0.6                 0.8   \n",
            "2         (Bread)      (Eggs)                 0.8                 0.6   \n",
            "3          (Eggs)     (Bread)                 0.6                 0.8   \n",
            "4  (Butter, Eggs)     (Bread)                 0.4                 0.8   \n",
            "5   (Bread, Milk)      (Eggs)                 0.4                 0.6   \n",
            "6    (Milk, Eggs)     (Bread)                 0.4                 0.8   \n",
            "\n",
            "   support  confidence      lift  leverage  conviction  zhangs_metric  \n",
            "0      0.6        0.75  1.250000      0.12         1.6       1.000000  \n",
            "1      0.6        1.00  1.250000      0.12         inf       0.500000  \n",
            "2      0.6        0.75  1.250000      0.12         1.6       1.000000  \n",
            "3      0.6        1.00  1.250000      0.12         inf       0.500000  \n",
            "4      0.4        1.00  1.250000      0.08         inf       0.333333  \n",
            "5      0.4        1.00  1.666667      0.16         inf       0.666667  \n",
            "6      0.4        1.00  1.250000      0.08         inf       0.333333  \n"
          ]
        }
      ]
    },
    {
      "cell_type": "code",
      "source": [
        "# How to Apply the Confidence Difference Criterion Using Python\n",
        "\n",
        "import pandas as pd\n",
        "from mlxtend.preprocessing import TransactionEncoder\n",
        "from mlxtend.frequent_patterns import apriori, association_rules\n",
        "\n",
        "# Create a sample dataset\n",
        "dataset = [['Milk', 'Bread', 'Eggs'],\n",
        "           ['Bread', 'Butter', 'Jam'],\n",
        "           ['Milk', 'Eggs', 'Butter', 'Bread'],\n",
        "           ['Milk', 'Jam'],\n",
        "           ['Bread', 'Eggs', 'Butter']]\n",
        "\n",
        "# Convert the dataset to a one-hot encoded format\n",
        "te = TransactionEncoder()\n",
        "te_ary = te.fit(dataset).transform(dataset)\n",
        "df = pd.DataFrame(te_ary, columns=te.columns_)\n",
        "\n",
        "# Find frequent itemsets using Apriori algorithm\n",
        "frequent_itemsets = apriori(df, min_support=0.4, use_colnames=True)\n",
        "\n",
        "# Generate association rules\n",
        "rules = association_rules(frequent_itemsets, metric=\"confidence\", min_threshold=0.7)\n",
        "\n",
        "# Apply Confidence Difference Criterion\n",
        "confidence_diff_threshold = 0.2  # Set your desired confidence difference threshold\n",
        "filtered_rules = rules[\n",
        "    (rules['confidence'] - rules['antecedent support']) > confidence_diff_threshold\n",
        "]\n",
        "\n",
        "# Display the filtered association rules\n",
        "print(\"\\nFiltered Association Rules:\")\n",
        "print(filtered_rules)\n"
      ],
      "metadata": {
        "colab": {
          "base_uri": "https://localhost:8080/"
        },
        "id": "10jqISFbA_RG",
        "outputId": "0a7e1746-21e9-4350-8b06-883a508683fb"
      },
      "execution_count": 23,
      "outputs": [
        {
          "output_type": "stream",
          "name": "stdout",
          "text": [
            "\n",
            "Filtered Association Rules:\n",
            "      antecedents consequents  antecedent support  consequent support  \\\n",
            "1        (Butter)     (Bread)                 0.6                 0.8   \n",
            "3          (Eggs)     (Bread)                 0.6                 0.8   \n",
            "4  (Butter, Eggs)     (Bread)                 0.4                 0.8   \n",
            "5   (Bread, Milk)      (Eggs)                 0.4                 0.6   \n",
            "6    (Milk, Eggs)     (Bread)                 0.4                 0.8   \n",
            "\n",
            "   support  confidence      lift  leverage  conviction  zhangs_metric  \n",
            "1      0.6         1.0  1.250000      0.12         inf       0.500000  \n",
            "3      0.6         1.0  1.250000      0.12         inf       0.500000  \n",
            "4      0.4         1.0  1.250000      0.08         inf       0.333333  \n",
            "5      0.4         1.0  1.666667      0.16         inf       0.666667  \n",
            "6      0.4         1.0  1.250000      0.08         inf       0.333333  \n"
          ]
        },
        {
          "output_type": "stream",
          "name": "stderr",
          "text": [
            "/usr/local/lib/python3.10/dist-packages/ipykernel/ipkernel.py:283: DeprecationWarning: `should_run_async` will not call `transform_cell` automatically in the future. Please pass the result to `transformed_cell` argument and any exception that happen during thetransform in `preprocessing_exc_tuple` in IPython 7.17 and above.\n",
            "  and should_run_async(code)\n"
          ]
        }
      ]
    },
    {
      "cell_type": "code",
      "source": [
        "#How to Apply the Confidence Quotient Criterion Using Python\n",
        "\n",
        "import pandas as pd\n",
        "from mlxtend.preprocessing import TransactionEncoder\n",
        "from mlxtend.frequent_patterns import apriori, association_rules\n",
        "\n",
        "# Create a sample dataset\n",
        "dataset = [['Milk', 'Bread', 'Eggs'],\n",
        "           ['Bread', 'Butter', 'Jam'],\n",
        "           ['Milk', 'Eggs', 'Butter', 'Bread'],\n",
        "           ['Milk', 'Jam'],\n",
        "           ['Bread', 'Eggs', 'Butter']]\n",
        "\n",
        "# Convert the dataset to a one-hot encoded format\n",
        "te = TransactionEncoder()\n",
        "te_ary = te.fit(dataset).transform(dataset)\n",
        "df = pd.DataFrame(te_ary, columns=te.columns_)\n",
        "\n",
        "# Find frequent itemsets using Apriori algorithm\n",
        "frequent_itemsets = apriori(df, min_support=0.4, use_colnames=True)\n",
        "\n",
        "# Generate association rules\n",
        "rules = association_rules(frequent_itemsets, metric=\"confidence\", min_threshold=0.7)\n",
        "\n",
        "# Apply Confidence Quotient Criterion\n",
        "confidence_quotient_threshold = 1.5  # Set your desired confidence quotient threshold\n",
        "filtered_rules = rules[\n",
        "    (rules['confidence'] / rules['antecedent support']) > confidence_quotient_threshold\n",
        "]\n",
        "\n",
        "# Display the filtered association rules\n",
        "print(\"\\nFiltered Association Rules:\")\n",
        "print(filtered_rules)\n"
      ],
      "metadata": {
        "colab": {
          "base_uri": "https://localhost:8080/"
        },
        "id": "b4KSLLnRBTaH",
        "outputId": "465ec657-bf7e-41b5-f2d7-87afa35d1af2"
      },
      "execution_count": 24,
      "outputs": [
        {
          "output_type": "stream",
          "name": "stdout",
          "text": [
            "\n",
            "Filtered Association Rules:\n",
            "      antecedents consequents  antecedent support  consequent support  \\\n",
            "1        (Butter)     (Bread)                 0.6                 0.8   \n",
            "3          (Eggs)     (Bread)                 0.6                 0.8   \n",
            "4  (Butter, Eggs)     (Bread)                 0.4                 0.8   \n",
            "5   (Bread, Milk)      (Eggs)                 0.4                 0.6   \n",
            "6    (Milk, Eggs)     (Bread)                 0.4                 0.8   \n",
            "\n",
            "   support  confidence      lift  leverage  conviction  zhangs_metric  \n",
            "1      0.6         1.0  1.250000      0.12         inf       0.500000  \n",
            "3      0.6         1.0  1.250000      0.12         inf       0.500000  \n",
            "4      0.4         1.0  1.250000      0.08         inf       0.333333  \n",
            "5      0.4         1.0  1.666667      0.16         inf       0.666667  \n",
            "6      0.4         1.0  1.250000      0.08         inf       0.333333  \n"
          ]
        },
        {
          "output_type": "stream",
          "name": "stderr",
          "text": [
            "/usr/local/lib/python3.10/dist-packages/ipykernel/ipkernel.py:283: DeprecationWarning: `should_run_async` will not call `transform_cell` automatically in the future. Please pass the result to `transformed_cell` argument and any exception that happen during thetransform in `preprocessing_exc_tuple` in IPython 7.17 and above.\n",
            "  and should_run_async(code)\n"
          ]
        }
      ]
    }
  ]
}